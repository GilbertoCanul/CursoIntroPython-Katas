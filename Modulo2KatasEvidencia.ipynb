{
 "cells": [
  {
   "cell_type": "markdown",
   "metadata": {},
   "source": [
    "# Creación del entorno virtual"
   ]
  },
  {
   "cell_type": "markdown",
   "metadata": {},
   "source": [
    "En mi caso el comando que funcionó fue el siguiente:\n",
    "\n",
    "![](../CreacionEntornoVirtual.png)"
   ]
  },
  {
   "cell_type": "markdown",
   "metadata": {},
   "source": [
    "Se crearon los directorios correspondientes:\n",
    "\n",
    "![](../DirectoriosEnv.png)"
   ]
  },
  {
   "cell_type": "markdown",
   "metadata": {},
   "source": [
    "Al intentar activar el entorno virtual, surgió el siguiente error:\n",
    "\n",
    "![](../Error.png)"
   ]
  },
  {
   "cell_type": "markdown",
   "metadata": {},
   "source": [
    "Buscando en internet, se probó la siguiente solución en Windows PowerShell:\n",
    "\n",
    "![](../PowerShell.png)"
   ]
  },
  {
   "cell_type": "markdown",
   "metadata": {},
   "source": [
    "Después de eso, el entorno virtual pudo activarse satisfactoriamente:\n",
    "\n",
    "![](../Activated.png)"
   ]
  },
  {
   "cell_type": "markdown",
   "metadata": {},
   "source": [
    "Se probó el comando *pip freeze* sin obtener respuesta:\n",
    "\n",
    "![](../PipFreeze.png)"
   ]
  },
  {
   "cell_type": "markdown",
   "metadata": {},
   "source": [
    "Se instaló una biblioteca con el comando *pip install python-dateutil*:\n",
    "\n",
    "![](../PipInstall.png)"
   ]
  },
  {
   "cell_type": "markdown",
   "metadata": {},
   "source": [
    "Nuevamente, se corrió el comando *pip freeze*, esta vez obteniéndose como salida la información de la librería instalada:\n",
    "\n",
    "![](../PipFreeze2.png)"
   ]
  },
  {
   "cell_type": "markdown",
   "metadata": {},
   "source": [
    "Finalmente, se desactivó el entorno virtual con el comando *deactivate*:\n",
    "\n",
    "![](../Deactivate.png)"
   ]
  }
 ],
 "metadata": {
  "interpreter": {
   "hash": "46e6dcce67d7774d2dab22c0c72c1f98b3915e76a8a5029637cb96f2b4679691"
  },
  "kernelspec": {
   "display_name": "Python 3.10.2 ('env': venv)",
   "language": "python",
   "name": "python3"
  },
  "language_info": {
   "name": "python",
   "version": "3.10.2"
  },
  "orig_nbformat": 4
 },
 "nbformat": 4,
 "nbformat_minor": 2
}
